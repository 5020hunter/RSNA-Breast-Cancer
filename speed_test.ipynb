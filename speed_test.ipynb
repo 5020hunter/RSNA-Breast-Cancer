{
 "cells": [
  {
   "cell_type": "code",
   "execution_count": 39,
   "metadata": {},
   "outputs": [],
   "source": [
    "import scipy\n",
    "import pandas as pd\n",
    "import numpy as np\n",
    "import matplotlib.pyplot as plt\n",
    "import pydicom\n",
    "import cv2\n",
    "from skimage import filters"
   ]
  },
  {
   "cell_type": "code",
   "execution_count": 40,
   "metadata": {},
   "outputs": [],
   "source": [
    "def histogram_equalization(img):\n",
    "    m = int(np.max(img))\n",
    "    hist = np.histogram(img, bins=m+1, range=(0, m+1))[0]\n",
    "    hist = hist/img.size\n",
    "    cdf = np.cumsum(hist)\n",
    "    s_k = (255 * cdf)\n",
    "    img_new = np.array([s_k[i] for i in img.ravel()]).reshape(img.shape)\n",
    "    return img_new"
   ]
  },
  {
   "cell_type": "code",
   "execution_count": 41,
   "metadata": {},
   "outputs": [],
   "source": [
    "def get_masks_and_sizes_of_connected_components(img_mask):\n",
    "    \"\"\"\n",
    "    Finds the connected components from the mask of the image\n",
    "    \"\"\"\n",
    "    mask, num_labels = scipy.ndimage.label(img_mask)\n",
    "\n",
    "    mask_pixels_dict = {}\n",
    "    for i in range(num_labels+1):\n",
    "        this_mask = (mask == i)\n",
    "        if img_mask[this_mask][0] != 0:\n",
    "            # Exclude the 0-valued mask\n",
    "            mask_pixels_dict[i] = np.sum(this_mask)\n",
    "    return mask, mask_pixels_dict"
   ]
  },
  {
   "cell_type": "code",
   "execution_count": 42,
   "metadata": {},
   "outputs": [],
   "source": [
    "def get_mask_of_largest_connected_component(img_mask):\n",
    "    \"\"\"\n",
    "    Finds the largest connected component from the mask of the image\n",
    "    \"\"\"\n",
    "    mask, mask_pixels_dict = get_masks_and_sizes_of_connected_components(img_mask)\n",
    "    largest_mask_index = pd.Series(mask_pixels_dict).idxmax()\n",
    "    largest_mask = mask == largest_mask_index\n",
    "    return largest_mask"
   ]
  },
  {
   "cell_type": "code",
   "execution_count": 43,
   "metadata": {},
   "outputs": [],
   "source": [
    "def image_processing(img):\n",
    "    threshold = filters.threshold_isodata(img)\n",
    "    bin_img = (img > threshold)*1\n",
    "    kernel = np.ones((5, 5), np.uint8)\n",
    "    bin_img = bin_img.astype('uint8')\n",
    "    bin_img = cv2.erode(bin_img, kernel, iterations=-2)\n",
    "    \n",
    "    img_mask = get_mask_of_largest_connected_component(bin_img)\n",
    "    \n",
    "    farthest_pixel = np.max(list(zip(*np.where(img_mask == 1))), axis=0)\n",
    "    nearest_pixel = np.min(list(zip(*np.where(img_mask == 1))), axis=0)\n",
    "    cropped =  img[nearest_pixel[0]:farthest_pixel[0], nearest_pixel[1]:farthest_pixel[1]]\n",
    "    return cropped"
   ]
  },
  {
   "cell_type": "code",
   "execution_count": 44,
   "metadata": {},
   "outputs": [
    {
     "name": "stdout",
     "output_type": "stream",
     "text": [
      "CPU times: total: 2.06 s\n",
      "Wall time: 2.27 s\n"
     ]
    }
   ],
   "source": [
    "%%time\n",
    "\n",
    "in_path = './images/10130/2110820077.dcm'\n",
    "ds = pydicom.dcmread(in_path) #Read .dcm file\n",
    "img = np.array(ds.pixel_array, dtype=np.uint8)"
   ]
  },
  {
   "cell_type": "code",
   "execution_count": 45,
   "metadata": {},
   "outputs": [
    {
     "name": "stdout",
     "output_type": "stream",
     "text": [
      "CPU times: total: 23.6 s\n",
      "Wall time: 24.2 s\n"
     ]
    }
   ],
   "source": [
    "%%time\n",
    "\n",
    "new_img = image_processing(img)"
   ]
  },
  {
   "cell_type": "code",
   "execution_count": 46,
   "metadata": {},
   "outputs": [
    {
     "name": "stdout",
     "output_type": "stream",
     "text": [
      "CPU times: total: 15.6 ms\n",
      "Wall time: 9.54 ms\n"
     ]
    }
   ],
   "source": [
    "%%time\n",
    "\n",
    "eq_img = histogram_equalization(new_img)"
   ]
  }
 ],
 "metadata": {
  "kernelspec": {
   "display_name": "Python 3",
   "language": "python",
   "name": "python3"
  },
  "language_info": {
   "codemirror_mode": {
    "name": "ipython",
    "version": 3
   },
   "file_extension": ".py",
   "mimetype": "text/x-python",
   "name": "python",
   "nbconvert_exporter": "python",
   "pygments_lexer": "ipython3",
   "version": "3.10.0 (tags/v3.10.0:b494f59, Oct  4 2021, 19:00:18) [MSC v.1929 64 bit (AMD64)]"
  },
  "orig_nbformat": 4,
  "vscode": {
   "interpreter": {
    "hash": "ccab6ae4efc56187e9d036cd12728f4b448294d22bf7d04ec6842a91f6c0fc30"
   }
  }
 },
 "nbformat": 4,
 "nbformat_minor": 2
}
