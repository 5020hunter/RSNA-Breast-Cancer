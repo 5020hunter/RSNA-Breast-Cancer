{
 "cells": [
  {
   "cell_type": "code",
   "execution_count": 10,
   "metadata": {},
   "outputs": [],
   "source": [
    "import os\n",
    "import pandas as pd\n",
    "import pydicom"
   ]
  },
  {
   "cell_type": "code",
   "execution_count": 11,
   "metadata": {},
   "outputs": [
    {
     "name": "stdout",
     "output_type": "stream",
     "text": [
      "['.\\\\images\\\\10006\\\\1459541791.dcm', '.\\\\images\\\\10006\\\\1864590858.dcm', '.\\\\images\\\\10006\\\\1874946579.dcm', '.\\\\images\\\\10006\\\\462822612.dcm', '.\\\\images\\\\10011\\\\1031443799.dcm', '.\\\\images\\\\10011\\\\220375232.dcm', '.\\\\images\\\\10011\\\\270344397.dcm', '.\\\\images\\\\10011\\\\541722628.dcm', '.\\\\images\\\\10025\\\\1365269360.dcm', '.\\\\images\\\\10025\\\\288394860.dcm', '.\\\\images\\\\10025\\\\562340703.dcm', '.\\\\images\\\\10025\\\\893612858.dcm', '.\\\\images\\\\10038\\\\1350492010.dcm', '.\\\\images\\\\10038\\\\1967300488.dcm', '.\\\\images\\\\10038\\\\2142944869.dcm', '.\\\\images\\\\10038\\\\850559196.dcm', '.\\\\images\\\\10042\\\\102733848.dcm', '.\\\\images\\\\10042\\\\1648588715.dcm', '.\\\\images\\\\10042\\\\202939811.dcm', '.\\\\images\\\\10042\\\\294481519.dcm', '.\\\\images\\\\10042\\\\495770405.dcm', '.\\\\images\\\\10130\\\\1013166704.dcm', '.\\\\images\\\\10130\\\\1165309236.dcm', '.\\\\images\\\\10130\\\\1360338805.dcm', '.\\\\images\\\\10130\\\\1672636630.dcm', '.\\\\images\\\\10130\\\\2110820077.dcm', '.\\\\images\\\\10130\\\\388811999.dcm', '.\\\\images\\\\10130\\\\613462606.dcm']\n"
     ]
    }
   ],
   "source": [
    "im_files = []\n",
    "for folder in os.listdir('.\\images'):\n",
    "    for file in os.listdir(f'.\\images\\\\{folder}'):\n",
    "        im_files.append(f'.\\images\\\\{folder}\\\\{file}')\n",
    "print(im_files)"
   ]
  },
  {
   "cell_type": "code",
   "execution_count": 12,
   "metadata": {},
   "outputs": [],
   "source": [
    "im_shapes = {'H':[],'W':[]}\n",
    "for i, file in enumerate(im_files):\n",
    "    ds = pydicom.dcmread(file).pixel_array\n",
    "    im_shapes['H'].append( ds.shape[0] )\n",
    "    im_shapes['W'].append( ds.shape[1] )\n",
    "im_shapes_df = pd.DataFrame(im_shapes)\n"
   ]
  },
  {
   "cell_type": "code",
   "execution_count": 14,
   "metadata": {},
   "outputs": [
    {
     "data": {
      "text/html": [
       "<div>\n",
       "<style scoped>\n",
       "    .dataframe tbody tr th:only-of-type {\n",
       "        vertical-align: middle;\n",
       "    }\n",
       "\n",
       "    .dataframe tbody tr th {\n",
       "        vertical-align: top;\n",
       "    }\n",
       "\n",
       "    .dataframe thead th {\n",
       "        text-align: right;\n",
       "    }\n",
       "</style>\n",
       "<table border=\"1\" class=\"dataframe\">\n",
       "  <thead>\n",
       "    <tr style=\"text-align: right;\">\n",
       "      <th></th>\n",
       "      <th>H</th>\n",
       "      <th>W</th>\n",
       "      <th>A</th>\n",
       "    </tr>\n",
       "  </thead>\n",
       "  <tbody>\n",
       "    <tr>\n",
       "      <th>12</th>\n",
       "      <td>2294</td>\n",
       "      <td>1914</td>\n",
       "      <td>4390716</td>\n",
       "    </tr>\n",
       "    <tr>\n",
       "      <th>13</th>\n",
       "      <td>2294</td>\n",
       "      <td>1914</td>\n",
       "      <td>4390716</td>\n",
       "    </tr>\n",
       "    <tr>\n",
       "      <th>14</th>\n",
       "      <td>2294</td>\n",
       "      <td>1914</td>\n",
       "      <td>4390716</td>\n",
       "    </tr>\n",
       "    <tr>\n",
       "      <th>15</th>\n",
       "      <td>2294</td>\n",
       "      <td>1914</td>\n",
       "      <td>4390716</td>\n",
       "    </tr>\n",
       "  </tbody>\n",
       "</table>\n",
       "</div>"
      ],
      "text/plain": [
       "       H     W        A\n",
       "12  2294  1914  4390716\n",
       "13  2294  1914  4390716\n",
       "14  2294  1914  4390716\n",
       "15  2294  1914  4390716"
      ]
     },
     "execution_count": 14,
     "metadata": {},
     "output_type": "execute_result"
    }
   ],
   "source": [
    "im_shapes_df['A'] = im_shapes_df['H'] * im_shapes_df['W']\n",
    "idx = im_shapes_df[im_shapes_df['A'] == im_shapes_df['A'].min()].index\n",
    "im_shapes_df.iloc[idx]"
   ]
  }
 ],
 "metadata": {
  "kernelspec": {
   "display_name": "Python 3",
   "language": "python",
   "name": "python3"
  },
  "language_info": {
   "codemirror_mode": {
    "name": "ipython",
    "version": 3
   },
   "file_extension": ".py",
   "mimetype": "text/x-python",
   "name": "python",
   "nbconvert_exporter": "python",
   "pygments_lexer": "ipython3",
   "version": "3.10.0"
  },
  "orig_nbformat": 4,
  "vscode": {
   "interpreter": {
    "hash": "ccab6ae4efc56187e9d036cd12728f4b448294d22bf7d04ec6842a91f6c0fc30"
   }
  }
 },
 "nbformat": 4,
 "nbformat_minor": 2
}
